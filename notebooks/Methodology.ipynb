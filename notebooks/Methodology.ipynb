{
 "cells": [
  {
   "cell_type": "markdown",
   "id": "e14f784e-1a64-43f6-a762-a2088312e4d6",
   "metadata": {},
   "source": [
    "# EDF - Test technique (10/06/2023)"
   ]
  },
  {
   "cell_type": "markdown",
   "id": "2c1f884f-7775-42ef-8a23-a67aaa84632e",
   "metadata": {},
   "source": [
    "## 1. Recherches préalables"
   ]
  },
  {
   "cell_type": "markdown",
   "id": "2b57e86f-b19f-4aec-832e-abcff6db5ab0",
   "metadata": {},
   "source": [
    "**Lexique :**\n",
    "* Energie : mesure de la capacité d'un système à modifier à son état (à produire un travail entraînant un mouvement, un rayonnement électromagnétique ou de la chaleur). L'énergie totale d'un système isolé est invariante au cours du temps (principe de conservation de l'énergie).\n",
    "* Watt (W) : unité de puissance (ou de flux énergétique, de débit d'énergie produit chaque seconde : $1W = 1 J/s$). Un watt équivauet à un joule par seconde. Il permet de mesurer la puissance d'un système dans lequel l'énergie d'un joule est transférée uniformément pendant une seconde. Pour les ordres de grandeur :\n",
    "    * Une centrale nucléaire a une puissance installée située entre 500 et 1700 MW\n",
    "    * Un cheval-vapeur représente 700 W (Donc une automobile qui a une puissance de 100 chevaux, représente 70 kW)\n",
    "    * Un réfrigérateur représente 200 W, un grille-pain entre 800 et 1500 W\n",
    "    * Un ordinateur représente 200 W\n",
    "* Watt-heure (wh) : un watt-heure vaut 3600 joules. C'est, en quelque sorte, une mesure de quantité d'énergie. Il s'agit de la quantité d'énergie qui est produite/consommée en un laps de temps donné.\n",
    "* Joule (J) : unité de mesure pour quantifier l'énergie. Il s'agit plus précisément du travail d'une force motrice d'un newton dont le point d'application se déplace d'un mètre dans la direction de la force. Le joule s'exprime en kilogramme mètre carré par seconde au carré : $1 N/m = 1 kg/m^{2}/s^{—2}$. Pour les applications sur des systèmes électriques, un joule représente le travail fourni par un circuit électrique pour faire circuler un courant électrique d'un ampère à travers une résistance d'un ohm pendant une seconde : $1 J = 1 \\Omega/A^{2}/s = 1 W/s$. Pour le traduire plus simplement, un joule est l'énergie fournie par une puissance de 1 watt pendant une seconde.\n",
    "* Tension : circulation d'un champ électrique le long d'un circuit électrique (se mesure en volts (V)). Concrètement, il s'agit de la différence de potentiel électrique entre deux points d'un circuit électrique.\n",
    "* Intensité : débit de charge électrique à travers une surface donnée (se mesure en ampères (A)).\n",
    "* Charge électrique : représente la quantité d'électricité traversant une section d'un conducteur parcouru par un courant d'intensité d'un ampère par seconde : $1 C = 1 A/s$.\n",
    "* Courant électrique : mouvement de charges électriques (électrons) au sein d'un matériau conducteur. C'est la force électromagnétique (force fondamentale, interaction électromagnétique).\n",
    "\n",
    "Sources : toutes les informations sont tirées des pages Wikipedia respectives."
   ]
  },
  {
   "cell_type": "markdown",
   "id": "4830b215-e377-4066-a671-c870388bf8e7",
   "metadata": {},
   "source": [
    "## 2. Sujet (en termes généraux)"
   ]
  },
  {
   "cell_type": "markdown",
   "id": "2dd63242-0783-4dd5-a39b-44a8368a90e9",
   "metadata": {},
   "source": [
    "Développer un **algorithme de distribution d'un système de gestion énergétique (EMS)** capable de **contrôler la smart grid d'un système industriel** de production électrique."
   ]
  },
  {
   "cell_type": "markdown",
   "id": "eeac4d58-dd9b-450c-b557-d441b708bcaf",
   "metadata": {},
   "source": [
    "### 2. 1. Contraintes propres au problème"
   ]
  },
  {
   "cell_type": "markdown",
   "id": "787bac3e-c51d-4ce7-9b14-620d4dfebc1e",
   "metadata": {},
   "source": [
    "* Electricité se stocke mal\n",
    "* Electricité se transporte mal\n",
    "    * Il faut donc maximiser le matching 1-1 entre la consommation d'un côté et la production de l'autre"
   ]
  },
  {
   "cell_type": "markdown",
   "id": "14114c32-0a07-4d79-84f1-ace295fedbb4",
   "metadata": {},
   "source": [
    "### 2. 2. Contraintes et solutions d'architecture système/logicielle"
   ]
  },
  {
   "cell_type": "markdown",
   "id": "e95e7b74-c342-4819-9869-0cbd5125da5d",
   "metadata": {},
   "source": [
    "* Contrôler l'état de différents objets dans le temps\n",
    "    * Cas d'usage de patterns orienté objet\n",
    "* Contrôler l'évolution du système dans le temps\n",
    "    * Séries temporelles\n",
    "    * Potentiellement une quantité importante de données produites, stockées, archivées\n",
    "* Infrastructure critique\n",
    "    * Smart grid contrôle la distribution de l'électricité donc il est utile de penser à une solution de haute disponibilité\n",
    "    * Tenir compte des crashs possibles, du reboot rapide, de la redondance, etc."
   ]
  },
  {
   "cell_type": "markdown",
   "id": "4e7cddda-c6ae-47ee-8e1a-5cf9e9f98b61",
   "metadata": {},
   "source": [
    "## 3. Cas d'étude (à partir de l'exemple proposé)"
   ]
  },
  {
   "cell_type": "markdown",
   "id": "c138b065-9633-4652-9824-6d7d256c0227",
   "metadata": {},
   "source": [
    "### 3. 1. Prototypage"
   ]
  },
  {
   "cell_type": "markdown",
   "id": "9872fc48-7ec4-456c-a890-aa7ff0af63f1",
   "metadata": {},
   "source": [
    "#### 3. 1. 1. Schéma du problème"
   ]
  },
  {
   "cell_type": "markdown",
   "id": "faacba17-3347-43a1-9168-2e6c3a72cf24",
   "metadata": {},
   "source": [
    "![Diagramme du site industriel](img/grid_diagram.png)"
   ]
  },
  {
   "cell_type": "markdown",
   "id": "89cd8011-f553-47e1-be7f-083f8f9a3a9f",
   "metadata": {},
   "source": [
    "#### 3. 1. 2. Architecture orientée objet"
   ]
  },
  {
   "cell_type": "markdown",
   "id": "ccf22358-5e6f-4625-ac91-a2df4edb44b1",
   "metadata": {},
   "source": [
    "Le sujet suggère le choix d'une architecture orientée objet : elle a l'avantage de permettre de représenter facilement l'état de chaque entité dans le système et de pouvoir le faire évoluer facilement.\n",
    "\n",
    "Liste des entités :\n",
    "* IFL (Industrial facility load)\n",
    "    * `Pload` : puissance consommée par IFL\n",
    "* PV (Photovoltaic power plant)\n",
    "    * `Ppv` : puissance produite par PV\n",
    "    * `pv_peak` (constante) : puissance installée de PV\n",
    "* ESS (Energy storage system)\n",
    "    * `Pess` : bilan des transfers d'ESS\n",
    "    * `ess_capacity` (constante) : capacité de stockage d'ESS\n",
    "* POC (Point of connection)\n",
    "    * `Ppoc` : bilan des transfers de POC"
   ]
  },
  {
   "cell_type": "markdown",
   "id": "2860a5e9-4bae-42c2-9fac-7cc6e5d8a7cb",
   "metadata": {},
   "source": [
    "### 3. 2. Contraintes"
   ]
  },
  {
   "cell_type": "markdown",
   "id": "52d0b6b6-b26a-4f78-987c-c1f8931d481f",
   "metadata": {},
   "source": [
    "#### 3. 2. 1. Métier"
   ]
  },
  {
   "cell_type": "markdown",
   "id": "3d4ebfa0-4a36-4871-8de7-ab7c876adbd2",
   "metadata": {},
   "source": [
    "La consommation totale du site industriel doit restée au dessus d'une valeur donnée `PmaxSite`\n",
    "* Cela se traduit par l'inéquation suivante : `PmaxSite` < `Ppov`\n",
    "* Il n'est donc pas autorisé de consommer de l'électricité sur la Grid nationale"
   ]
  },
  {
   "cell_type": "markdown",
   "id": "9c2b6781-6b6d-4291-8e0b-5a7ac3b927d1",
   "metadata": {},
   "source": [
    "#### 3. 2. 2. Conventions"
   ]
  },
  {
   "cell_type": "markdown",
   "id": "561732a5-0098-44a0-989b-7c17287330f1",
   "metadata": {},
   "source": [
    "* Les flux in/out sont représentés par le signe des valeurs numériques\n",
    "    * Consommation : valeurs négatives\n",
    "    * Production : valeurs positives\n",
    "* Cela a un impact sur les modalités de représentation d'autres valeurs\n",
    "    * Capacité maximale du système de stockage est une valeur négative (car on peut y ajouter de la \"production\", donc des valeurs positives)"
   ]
  }
 ],
 "metadata": {
  "kernelspec": {
   "display_name": "Python 3 (ipykernel)",
   "language": "python",
   "name": "python3"
  },
  "language_info": {
   "codemirror_mode": {
    "name": "ipython",
    "version": 3
   },
   "file_extension": ".py",
   "mimetype": "text/x-python",
   "name": "python",
   "nbconvert_exporter": "python",
   "pygments_lexer": "ipython3",
   "version": "3.11.0"
  }
 },
 "nbformat": 4,
 "nbformat_minor": 5
}
